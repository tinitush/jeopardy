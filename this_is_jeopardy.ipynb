{
 "cells": [
  {
   "cell_type": "markdown",
   "metadata": {},
   "source": [
    "# This is Jeopardy!"
   ]
  },
  {
   "cell_type": "markdown",
   "metadata": {},
   "source": [
    "#### Overview"
   ]
  },
  {
   "cell_type": "code",
   "execution_count": null,
   "metadata": {},
   "outputs": [],
   "source": []
  },
  {
   "cell_type": "markdown",
   "metadata": {},
   "source": [
    "This project is slightly different than others you have encountered thus far. Instead of a step-by-step tutorial, this project contains a series of open-ended requirements which describe the project you'll be building. There are many possible ways to correctly fulfill all of these requirements, and you should expect to use the internet, Codecademy, and/or other resources when you encounter a problem that you cannot easily solve."
   ]
  },
  {
   "cell_type": "markdown",
   "metadata": {},
   "source": [
    "#### Project Goals"
   ]
  },
  {
   "cell_type": "markdown",
   "metadata": {},
   "source": [
    "You will work to write several functions that investigate a dataset of _Jeopardy!_ questions and answers. Filter the dataset for topics that you're interested in, compute the average difficulty of those questions, and train to become the next Jeopardy champion!"
   ]
  },
  {
   "cell_type": "markdown",
   "metadata": {},
   "source": [
    "## Prerequisites"
   ]
  },
  {
   "cell_type": "markdown",
   "metadata": {},
   "source": [
    "In order to complete this project, you should have completed the Pandas lessons in the <a href=\"https://www.codecademy.com/learn/paths/analyze-data-with-python\">Analyze Data with Python Skill Path</a>. You can also find those lessons in the <a href=\"https://www.codecademy.com/learn/data-processing-pandas\">Data Analysis with Pandas course</a> or the <a href=\"https://www.codecademy.com/learn/paths/data-science/\">Data Scientist Career Path</a>.\n",
    "\n",
    "Finally, the <a href=\"https://www.codecademy.com/learn/practical-data-cleaning\">Practical Data Cleaning</a> course may also be helpful."
   ]
  },
  {
   "cell_type": "markdown",
   "metadata": {},
   "source": [
    "## Project Requirements"
   ]
  },
  {
   "cell_type": "markdown",
   "metadata": {},
   "source": [
    "1. We've provided a csv file containing data about the game show _Jeopardy!_ in a file named `jeopardy.csv`. Load the data into a DataFrame and investigate its contents. Try to print out specific columns.\n",
    "\n",
    "   Note that in order to make this project as \"real-world\" as possible, we haven't modified the data at all - we're giving it to you exactly how we found it. As a result, this data isn't as \"clean\" as the datasets you normally find on Codecademy. More specifically, there's something odd about the column names. After you figure out the problem with the column names, you may want to rename them to make your life easier for the rest of the project.\n",
    "   \n",
    "   In order to display the full contents of a column, we've added this line of code for you:\n",
    "   \n",
    "   ```py\n",
    "   pd.set_option('display.max_colwidth', None)\n",
    "   ```"
   ]
  },
  {
   "cell_type": "code",
   "execution_count": 3,
   "metadata": {},
   "outputs": [],
   "source": [
    "import pandas as pd\n",
    "import re\n",
    "pd.set_option('display.max_colwidth', None)"
   ]
  },
  {
   "cell_type": "markdown",
   "metadata": {},
   "source": [
    "2. Write a function that filters the dataset for questions that contains all of the words in a list of words. For example, when the list `[\"King\", \"England\"]` was passed to our function, the function returned a DataFrame of 49 rows. Every row had the strings `\"King\"` and `\"England\"` somewhere in its `\" Question\"`.\n",
    "\n",
    "   Test your function by printing out the column containing the question of each row of the dataset."
   ]
  },
  {
   "cell_type": "code",
   "execution_count": 4,
   "metadata": {},
   "outputs": [
    {
     "name": "stdout",
     "output_type": "stream",
     "text": [
      "   Show Number    Air Date      Round                         Category Value  \\\n",
      "0         4680  2004-12-31  Jeopardy!                          HISTORY  $200   \n",
      "1         4680  2004-12-31  Jeopardy!  ESPN's TOP 10 ALL-TIME ATHLETES  $200   \n",
      "2         4680  2004-12-31  Jeopardy!      EVERYBODY TALKS ABOUT IT...  $200   \n",
      "3         4680  2004-12-31  Jeopardy!                 THE COMPANY LINE  $200   \n",
      "4         4680  2004-12-31  Jeopardy!              EPITAPHS & TRIBUTES  $200   \n",
      "\n",
      "                                                                                                      Question  \\\n",
      "0             For the last 8 years of his life, Galileo was under house arrest for espousing this man's theory   \n",
      "1  No. 2: 1912 Olympian; football star at Carlisle Indian School; 6 MLB seasons with the Reds, Giants & Braves   \n",
      "2                     The city of Yuma in this state has a record average of 4,055 hours of sunshine each year   \n",
      "3                         In 1963, live on \"The Art Linkletter Show\", this company served its billionth burger   \n",
      "4     Signer of the Dec. of Indep., framer of the Constitution of Mass., second President of the United States   \n",
      "\n",
      "       Answer  \n",
      "0  Copernicus  \n",
      "1  Jim Thorpe  \n",
      "2     Arizona  \n",
      "3  McDonald's  \n",
      "4  John Adams  \n",
      "Index(['Show Number', 'Air Date', 'Round', 'Category', 'Value', 'Question',\n",
      "       'Answer'],\n",
      "      dtype='object')\n",
      "        Show Number    Air Date             Round  \\\n",
      "4953           3003  1997-09-24  Double Jeopardy!   \n",
      "6337           3517  1999-12-14  Double Jeopardy!   \n",
      "9191           3907  2001-09-04  Double Jeopardy!   \n",
      "11710          2903  1997-03-26  Double Jeopardy!   \n",
      "13454          4726  2005-03-07         Jeopardy!   \n",
      "...             ...         ...               ...   \n",
      "201168         3515  1999-12-10         Jeopardy!   \n",
      "204778         5899  2010-04-15  Double Jeopardy!   \n",
      "208742         4863  2005-11-02  Double Jeopardy!   \n",
      "213870         5856  2010-02-15  Double Jeopardy!   \n",
      "216021         1881  1992-11-09  Double Jeopardy!   \n",
      "\n",
      "                             Category   Value  \\\n",
      "4953                     \"PH\"UN WORDS    $200   \n",
      "6337                              Y1K    $800   \n",
      "9191                   WON THE BATTLE    $800   \n",
      "11710                BRITISH MONARCHS    $600   \n",
      "13454           A NUMBER FROM 1 TO 10   $1000   \n",
      "...                               ...     ...   \n",
      "201168                 BEFORE & AFTER    $500   \n",
      "204778  THE 13 COLONIES' NAME ORIGINS   $1200   \n",
      "208742                 BEFORE & AFTER  $3,000   \n",
      "213870                         URANUS   $1600   \n",
      "216021                 HISTORIC NAMES   $1000   \n",
      "\n",
      "                                                                                                      Question  \\\n",
      "4953                  Both England's King George V & FDR put their stamp of approval on this \"King of Hobbies\"   \n",
      "6337    In retaliation for Viking raids, this \"Unready\" king of England attacks Norse areas of the Isle of Man   \n",
      "9191                  This king of England beat the odds to trounce the French in the 1415 Battle of Agincourt   \n",
      "11710             This Scotsman, the first Stuart king of England, was called \"The Wisest Fool in Christendom\"   \n",
      "13454                                     It's the number that followed the last king of England named William   \n",
      "...                                                                                                        ...   \n",
      "201168                                Popular Saint-Exupery character waiting around to become king of England   \n",
      "204778                               This southern colony was named for a king of England, the II of that name   \n",
      "208742                    Dutch-born king who ruled England jointly with Mary II & is a tasty New Zealand fish   \n",
      "213870              In 1781 William Herschel discovered Uranus & initially named it after this king of England   \n",
      "216021        His nickname was \"Bertie\", but he used this name & number when he became king of England in 1901   \n",
      "\n",
      "                              Answer  \n",
      "4953    Philately (stamp collecting)  \n",
      "6337                        Ethelred  \n",
      "9191                         Henry V  \n",
      "11710                        James I  \n",
      "13454                              4  \n",
      "...                              ...  \n",
      "201168    The Little Prince of Wales  \n",
      "204778                       Georgia  \n",
      "208742      William of Orange roughy  \n",
      "213870                    George III  \n",
      "216021                    Edward VII  \n",
      "\n",
      "[118 rows x 7 columns]\n"
     ]
    }
   ],
   "source": [
    "jeopardy_csv = pd.read_csv('jeopardy.csv')\n",
    "jeopardy_csv.columns = jeopardy_csv.columns.str.strip()\n",
    "print(jeopardy_csv.head())\n",
    "print(jeopardy_csv.columns)\n",
    "def find_question_by_word(word_list):\n",
    "    filtered_question = jeopardy_csv\n",
    "    for word in word_list:\n",
    "        filtered_question = filtered_question[filtered_question[\"Question\"].str.contains(r\"\\b\" + re.escape(word) + r\"\\b\", case=False)] \n",
    "\n",
    "    return filtered_question\n",
    "\n",
    "print(find_question_by_word([\"King\", \"england\"]))"
   ]
  },
  {
   "cell_type": "markdown",
   "metadata": {},
   "source": [
    "3. Test your original function with a few different sets of words to try to find some ways your function breaks. Edit your function so it is more robust.\n",
    "\n",
    "   For example, think about capitalization. We probably want to find questions that contain the word `\"King\"` or `\"king\"`.\n",
    "   \n",
    "   You may also want to check to make sure you don't find rows that contain substrings of your given words. For example, our function found a question that didn't contain the word `\"king\"`, however it did contain the word `\"viking\"` &mdash; it found the `\"king\"` inside `\"viking\"`. Note that this also comes with some drawbacks &mdash; you would no longer find questions that contained words like `\"England's\"`."
   ]
  },
  {
   "cell_type": "code",
   "execution_count": 5,
   "metadata": {},
   "outputs": [
    {
     "name": "stdout",
     "output_type": "stream",
     "text": [
      "<class 'pandas.core.series.Series'>\n",
      "float64\n",
      "0          200.0\n",
      "1          200.0\n",
      "2          200.0\n",
      "3          200.0\n",
      "4          200.0\n",
      "           ...  \n",
      "216925    2000.0\n",
      "216926    2000.0\n",
      "216927    2000.0\n",
      "216928    2000.0\n",
      "216929       NaN\n",
      "Name: Value, Length: 216930, dtype: float64\n"
     ]
    }
   ],
   "source": [
    "# print(jeopardy_csv[\"Value\"].head())\n",
    "jeopardy_csv_string = jeopardy_csv[\"Value\"].str.replace(\"[\\$,]\", \"\", regex=True)\n",
    "\n",
    "jeopardy_csv_string = pd.to_numeric(jeopardy_csv_string, errors='coerce') \n",
    "print(type(jeopardy_csv_string))\n",
    "\n",
    "print(jeopardy_csv_string.dtype)\n",
    "jeopardy_csv[\"Value\"] = jeopardy_csv_string\n",
    "print(jeopardy_csv[\"Value\"])\n"
   ]
  },
  {
   "cell_type": "markdown",
   "metadata": {},
   "source": [
    "4. We may want to eventually compute aggregate statistics, like `.mean()` on the `\" Value\"` column. But right now, the values in that column are strings. Convert the`\" Value\"` column to floats. If you'd like to, you can create a new column with float values.\n",
    "\n",
    "   While most of the values in the `\" Value\"` column represent a dollar amount as a string, note that some do not &mdash; these values will need to be handled differently!\n",
    "\n",
    "   Now that you can filter the dataset of question, use your new column that contains the float values of each question to find the \"difficulty\" of certain topics. For example, what is the average value of questions that contain the word `\"King\"`?\n",
    "   \n",
    "   Make sure to use the dataset that contains the float values as the dataset you use in your filtering function."
   ]
  },
  {
   "cell_type": "code",
   "execution_count": 24,
   "metadata": {},
   "outputs": [
    {
     "name": "stdout",
     "output_type": "stream",
     "text": [
      "752.5959230365314\n",
      "785.668910564638\n"
     ]
    }
   ],
   "source": [
    "print(jeopardy_csv[\"Value\"].mean())\n",
    "#print(jeopardy_csv[jeopardy_csv[\"Question\"].str.contains(\"King\", case=False, na=False)][\"Value\"])\n",
    "# give a topic like \"King\" and it will find you the difficulty by giving you the mean value of points achievable from the questions regarding that topic\n",
    "def find_difficulty_by_topic(topic):\n",
    "    return jeopardy_csv[jeopardy_csv[\"Question\"].str.contains(str(topic), case=False, na=False)][\"Value\"].mean()\n",
    "print(find_difficulty_by_topic(\"King\"))\n",
    "\n"
   ]
  },
  {
   "cell_type": "markdown",
   "metadata": {},
   "source": [
    "5. Write a function that returns the count of unique answers to all of the questions in a dataset. For example, after filtering the entire dataset to only questions containing the word `\"King\"`, we could then find all of the unique answers to those questions. The answer \"Henry VIII\" appeared 55 times and was the most common answer."
   ]
  },
  {
   "cell_type": "code",
   "execution_count": null,
   "metadata": {},
   "outputs": [],
   "source": []
  },
  {
   "cell_type": "markdown",
   "metadata": {},
   "source": [
    "6. Explore from here! This is an incredibly rich dataset, and there are so many interesting things to discover. There are a few columns that we haven't even started looking at yet. Here are some ideas on ways to continue working with this data:\n",
    "\n",
    " * Investigate the ways in which questions change over time by filtering by the date. How many questions from the 90s use the word `\"Computer\"` compared to questions from the 2000s?\n",
    " * Is there a connection between the round and the category? Are you more likely to find certain categories, like `\"Literature\"` in Single Jeopardy or Double Jeopardy?\n",
    " * Build a system to quiz yourself. Grab random questions, and use the <a href=\"https://docs.python.org/3/library/functions.html#input\">input</a> function to get a response from the user. Check to see if that response was right or wrong."
   ]
  },
  {
   "cell_type": "code",
   "execution_count": null,
   "metadata": {},
   "outputs": [],
   "source": []
  },
  {
   "cell_type": "markdown",
   "metadata": {},
   "source": [
    "## Solution"
   ]
  },
  {
   "cell_type": "markdown",
   "metadata": {},
   "source": [
    "7. Compare your program to our <a href=\"https://content.codecademy.com/PRO/independent-practice-projects/jeopardy/jeopardy_solution.zip\">sample solution code</a> - remember, that your program might look different from ours (and probably will) and that's okay!"
   ]
  },
  {
   "cell_type": "markdown",
   "metadata": {},
   "source": [
    "8. Great work! Visit <a href=\"https://discuss.codecademy.com/t/this-is-jeopardy-challenge-project-python-pandas/462365\">our forums</a> to compare your project to our sample solution code. You can also learn how to host your own solution on GitHub so you can share it with other learners! Your solution might look different from ours, and that's okay! There are multiple ways to solve these projects, and you'll learn more by seeing others' code."
   ]
  },
  {
   "cell_type": "code",
   "execution_count": 1,
   "metadata": {},
   "outputs": [
    {
     "name": "stdout",
     "output_type": "stream",
     "text": [
      "i did it\n"
     ]
    }
   ],
   "source": [
    "print(\"i did it\")"
   ]
  }
 ],
 "metadata": {
  "kernelspec": {
   "display_name": "Python 3",
   "language": "python",
   "name": "python3"
  },
  "language_info": {
   "codemirror_mode": {
    "name": "ipython",
    "version": 3
   },
   "file_extension": ".py",
   "mimetype": "text/x-python",
   "name": "python",
   "nbconvert_exporter": "python",
   "pygments_lexer": "ipython3",
   "version": "3.11.9"
  }
 },
 "nbformat": 4,
 "nbformat_minor": 2
}
